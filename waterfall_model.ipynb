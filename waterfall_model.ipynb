{
  "nbformat": 4,
  "nbformat_minor": 0,
  "metadata": {
    "colab": {
      "provenance": [],
      "authorship_tag": "ABX9TyO4tVmeKdbq2x3DsGrfZsoY",
      "include_colab_link": true
    },
    "kernelspec": {
      "name": "python3",
      "display_name": "Python 3"
    },
    "language_info": {
      "name": "python"
    }
  },
  "cells": [
    {
      "cell_type": "markdown",
      "metadata": {
        "id": "view-in-github",
        "colab_type": "text"
      },
      "source": [
        "<a href=\"https://colab.research.google.com/github/vaishnavi31-M/waterfall-model-/blob/main/waterfall_model.ipynb\" target=\"_parent\"><img src=\"https://colab.research.google.com/assets/colab-badge.svg\" alt=\"Open In Colab\"/></a>"
      ]
    },
    {
      "cell_type": "markdown",
      "source": [
        "Implement waterfall modeling* using the quadratic solution in stages: hard-coding variables keyboard input, read from a file, for a single set of input, multiple sets of inputs.\n",
        "a. save all versions, debug, fix problems, create a Github account\n",
        "\n",
        "Implementation outline for weather modeling using a quadratic solution. The approach evolves in stages:\n",
        "\n",
        "1.Hardcoding variables.\n",
        "\n",
        "2.Accepting variables via keyboard input.\n",
        "\n",
        "3.Reading variables from a file.\n",
        "\n",
        "4.Processing a single set of inputs.\n",
        "\n",
        "5.Processing multiple sets of inputs. At the end, you will save the versions, debug, fix issues, and push the project to GitHub."
      ],
      "metadata": {
        "id": "4wmVSY__br1v"
      }
    },
    {
      "cell_type": "code",
      "execution_count": 10,
      "metadata": {
        "colab": {
          "base_uri": "https://localhost:8080/"
        },
        "id": "aQ44fLRLbiqH",
        "outputId": "8603622c-9d57-43b6-d77b-1c22c32ea0bb"
      },
      "outputs": [
        {
          "output_type": "stream",
          "name": "stdout",
          "text": [
            "Stage 1: Hardcoded Variables\n",
            "Roots: 2.0, 1.0\n",
            "\n",
            "Stage 2: Keyboard Input\n",
            "Enter coefficient a: 2\n",
            "Enter coefficient b: 3\n",
            "Enter coefficient c: 4\n",
            "No real roots\n",
            "\n",
            "Stage 3 and 4: File Input (Single Set)\n",
            "Roots: 2.0, 1.0\n",
            "\n",
            "Stage 5: File Input (Multiple Sets)\n",
            "Roots: 2.0, 1.0\n",
            "Root: -1.0\n",
            "Roots: 1.5, 1.0\n",
            "Roots: 1.5773502691896255, 0.42264973081037427\n"
          ]
        }
      ],
      "source": [
        "import sys\n",
        "def solve_quadratic(a, b, c):\n",
        "    \"\"\"Solve the quadratic equation ax^2 + bx + c = 0.\"\"\"\n",
        "    discriminant = b**2 - 4*a*c\n",
        "\n",
        "    if discriminant > 0:\n",
        "        root1 = (-b + discriminant**0.5) / (2 * a)\n",
        "        root2 = (-b - discriminant**0.5) / (2 * a)\n",
        "        return f\"Roots: {root1}, {root2}\"\n",
        "    elif discriminant == 0:\n",
        "        root = -b / (2 * a)\n",
        "        return f\"Root: {root}\"\n",
        "    else:\n",
        "        return \"No real roots\"\n",
        "\n",
        "\n",
        "def hardcoded_input():\n",
        "    \"\"\"Stage 1: Hardcoded variables.\"\"\"\n",
        "    print(\"Stage 1: Hardcoded Variables\")\n",
        "    a, b, c = 1, -3, 2\n",
        "    print(solve_quadratic(a, b, c))\n",
        "\n",
        "\n",
        "def keyboard_input():\n",
        "    \"\"\"Stage 2: Keyboard input.\"\"\"\n",
        "    print(\"\\nStage 2: Keyboard Input\")\n",
        "    a = float(input(\"Enter coefficient a: \"))\n",
        "    b = float(input(\"Enter coefficient b: \"))\n",
        "    c = float(input(\"Enter coefficient c: \"))\n",
        "    print(solve_quadratic(a, b, c))\n",
        "\n",
        "\n",
        "def file_input_single():\n",
        "    \"\"\"Stage 3 and 4: Read from file (single set of inputs).\"\"\"\n",
        "    print(\"\\nStage 3 and 4: File Input (Single Set)\")\n",
        "    try:\n",
        "        with open(\"input.txt\", \"r\") as file:\n",
        "            data = file.readline().split()\n",
        "            a, b, c = map(float, data)\n",
        "            print(solve_quadratic(a, b, c))\n",
        "    except Exception as e:\n",
        "        print(f\"Error: {e}\")\n",
        "\n",
        "\n",
        "def file_input_multiple():\n",
        "    \"\"\"Stage 5: Read from file (multiple sets of inputs).\"\"\"\n",
        "    print(\"\\nStage 5: File Input (Multiple Sets)\")\n",
        "    try:\n",
        "        with open(\"input.txt\", \"r\") as file:\n",
        "            for line in file:\n",
        "                a, b, c = map(float, line.split())\n",
        "                print(solve_quadratic(a, b, c))\n",
        "    except Exception as e:\n",
        "        print(f\"Error: {e}\")\n",
        "\n",
        "\n",
        "def main():\n",
        "    \"\"\"Main function to execute all stages.\"\"\"\n",
        "    hardcoded_input()\n",
        "    keyboard_input()\n",
        "    file_input_single()\n",
        "    file_input_multiple()\n",
        "\n",
        "\n",
        "if __name__ == \"__main__\":\n",
        "    main()"
      ]
    }
  ]
}